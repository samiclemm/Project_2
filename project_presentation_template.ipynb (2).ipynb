{
 "cells": [
  {
   "cell_type": "markdown",
   "id": "cc79e45d-8b2e-4b17-b8ae-370987169634",
   "metadata": {
    "editable": true,
    "slideshow": {
     "slide_type": ""
    },
    "tags": []
   },
   "source": [
    "Countryside England Textual Analysis"
   ]
  },
  {
   "cell_type": "markdown",
   "id": "ef1a09ac-b9d4-4335-bbb0-cf7c8c900114",
   "metadata": {
    "editable": true,
    "slideshow": {
     "slide_type": ""
    },
    "tags": []
   },
   "source": [
    "Izzy F, Sami C, Bri W"
   ]
  },
  {
   "cell_type": "markdown",
   "id": "301b435e-292d-4f28-b75f-5ca8bb05cb11",
   "metadata": {
    "editable": true,
    "slideshow": {
     "slide_type": ""
    },
    "tags": []
   },
   "source": [
    "### 1. Introduction"
   ]
  },
  {
   "cell_type": "markdown",
   "id": "ce5184c7-709d-4fe1-9521-a5d9f1718d62",
   "metadata": {
    "editable": true,
    "slideshow": {
     "slide_type": ""
    },
    "tags": []
   },
   "source": [
    "In this project, we will explore Jane Austen’s body of work and the various settings within her novels. To achieve this, we will use a geoparser to try and get an idea of where each book takes place. We have chosen to focus on Austen again to continue to compare Austen's work and further analyze the emotions portrayed throughout all her literary pieces. Before diving further into our research on the emotions she conveys using Python, our group infers the emotions attached to England, where Jane Austen’s corpus takes place reflects a distinctly gendered and hierarchical society in England. We anticipate that our map will reveal a significant concentration in England, particularly in the southern countryside. "
   ]
  },
  {
   "cell_type": "markdown",
   "id": "9bf81a4e-0a9d-45bf-af08-c08a873275dc",
   "metadata": {
    "editable": true,
    "slideshow": {
     "slide_type": ""
    },
    "tags": []
   },
   "source": [
    "### 2. Hypothesis"
   ]
  },
  {
   "cell_type": "markdown",
   "id": "10fd47a5-bc03-40ec-a245-403c6a270d6b",
   "metadata": {
    "editable": true,
    "slideshow": {
     "slide_type": ""
    },
    "tags": []
   },
   "source": [
    "Our group believes that the emotions connected to England, where Jane Austen's works are set, reflect a clearly gendered and hierarchical society. We expect our map to show a significant focus of these feelings in England, especially in the southern countryside."
   ]
  },
  {
   "cell_type": "markdown",
   "id": "2bb52ad2-ba39-4cab-943f-9c3ea69afeae",
   "metadata": {
    "editable": true,
    "slideshow": {
     "slide_type": ""
    },
    "tags": []
   },
   "source": [
    "### 3. Corpus Description"
   ]
  },
  {
   "cell_type": "markdown",
   "id": "93477763-f8c3-4411-a37b-3e325577ee12",
   "metadata": {
    "editable": true,
    "slideshow": {
     "slide_type": ""
    },
    "tags": []
   },
   "source": [
    "Before we go into the geoparsing and sentiment analysis results we found, I first want to describe the corpus and what it contains. This will give background information to help understand the further findings. The corpus consists of the complete works of Jane Austen, including her six major novels. Each of these novels contains a different piece of 19th-century English society, often focusing on themes of class, gender, family, and marriage, in the setting of rural and semi-urban England. Each setting of her novels, whether rural estates, small villages, or city centers like “Bath and London” serves as a background that Austen uses to critique the rigid social order and gender expectations of her time."
   ]
  },
  {
   "cell_type": "code",
   "execution_count": 127,
   "id": "69ffb0d1-ddd8-4042-ac27-1c862f34d7ad",
   "metadata": {
    "editable": true,
    "slideshow": {
     "slide_type": ""
    },
    "tags": []
   },
   "outputs": [],
   "source": [
    "#Place the query you used to get the dataframe here\n",
    "df_austen = pg_catalog_clean[\n",
    "    (pg_catalog_clean.language == 'en') &\n",
    "    (pg_catalog_clean.type == 'Text') &\n",
    "    (pg_catalog_clean.last_name == 'Austen')\n",
    "].copy()"
   ]
  },
  {
   "cell_type": "code",
   "execution_count": 129,
   "id": "b47da515-aedb-47fb-a03e-8f64967fb7e4",
   "metadata": {
    "editable": true,
    "slideshow": {
     "slide_type": ""
    },
    "tags": []
   },
   "outputs": [
    {
     "data": {
      "text/html": [
       "<div>\n",
       "<style scoped>\n",
       "    .dataframe tbody tr th:only-of-type {\n",
       "        vertical-align: middle;\n",
       "    }\n",
       "\n",
       "    .dataframe tbody tr th {\n",
       "        vertical-align: top;\n",
       "    }\n",
       "\n",
       "    .dataframe thead th {\n",
       "        text-align: right;\n",
       "    }\n",
       "</style>\n",
       "<table border=\"1\" class=\"dataframe\">\n",
       "  <thead>\n",
       "    <tr style=\"text-align: right;\">\n",
       "      <th></th>\n",
       "      <th>text_id</th>\n",
       "      <th>type</th>\n",
       "      <th>issued</th>\n",
       "      <th>title</th>\n",
       "      <th>language</th>\n",
       "      <th>subjects</th>\n",
       "      <th>locc</th>\n",
       "      <th>bookshelves</th>\n",
       "      <th>second_author</th>\n",
       "      <th>last_name</th>\n",
       "      <th>first_name</th>\n",
       "      <th>birth</th>\n",
       "      <th>death</th>\n",
       "    </tr>\n",
       "  </thead>\n",
       "  <tbody>\n",
       "    <tr>\n",
       "      <th>66647</th>\n",
       "      <td>66726</td>\n",
       "      <td>Text</td>\n",
       "      <td>2021-11-13</td>\n",
       "      <td>More Minor Horrors</td>\n",
       "      <td>en</td>\n",
       "      <td>Insects as carriers of disease; Insect pests; ...</td>\n",
       "      <td>QL</td>\n",
       "      <td>Browsing: Nature/Gardening/Animals; Browsing: ...</td>\n",
       "      <td>&lt;NA&gt;</td>\n",
       "      <td>Shipley</td>\n",
       "      <td>A. E. (Arthur Everett)</td>\n",
       "      <td>1861</td>\n",
       "      <td>1927</td>\n",
       "    </tr>\n",
       "    <tr>\n",
       "      <th>46519</th>\n",
       "      <td>46593</td>\n",
       "      <td>Text</td>\n",
       "      <td>2014-08-16</td>\n",
       "      <td>Gedankengut aus meinen Wanderjahren. Erster Band</td>\n",
       "      <td>de</td>\n",
       "      <td>Authors, German -- Biography; Dauthendey, Max,...</td>\n",
       "      <td>PT</td>\n",
       "      <td>Browsing: Biographies; Browsing: Literature</td>\n",
       "      <td>&lt;NA&gt;</td>\n",
       "      <td>Dauthendey</td>\n",
       "      <td>Max</td>\n",
       "      <td>1867</td>\n",
       "      <td>1918</td>\n",
       "    </tr>\n",
       "    <tr>\n",
       "      <th>13392</th>\n",
       "      <td>13463</td>\n",
       "      <td>Text</td>\n",
       "      <td>2004-09-15</td>\n",
       "      <td>Notes and Queries, Number 48, September 28, 1850</td>\n",
       "      <td>en</td>\n",
       "      <td>Questions and answers -- Periodicals</td>\n",
       "      <td>AG</td>\n",
       "      <td>Notes and Queries; Browsing: Encyclopedias/Dic...</td>\n",
       "      <td>&lt;NA&gt;</td>\n",
       "      <td>Various</td>\n",
       "      <td>&lt;NA&gt;</td>\n",
       "      <td>&lt;NA&gt;</td>\n",
       "      <td>&lt;NA&gt;</td>\n",
       "    </tr>\n",
       "    <tr>\n",
       "      <th>43367</th>\n",
       "      <td>43441</td>\n",
       "      <td>Text</td>\n",
       "      <td>2013-08-10</td>\n",
       "      <td>Symbolistes et Décadents</td>\n",
       "      <td>fr</td>\n",
       "      <td>French literature -- 19th century -- History a...</td>\n",
       "      <td>PQ</td>\n",
       "      <td>FR Littérature; Browsing: History - General; B...</td>\n",
       "      <td>&lt;NA&gt;</td>\n",
       "      <td>Kahn</td>\n",
       "      <td>Gustave</td>\n",
       "      <td>1859</td>\n",
       "      <td>1936</td>\n",
       "    </tr>\n",
       "    <tr>\n",
       "      <th>21819</th>\n",
       "      <td>21890</td>\n",
       "      <td>Text</td>\n",
       "      <td>2007-06-21</td>\n",
       "      <td>The Path to Home</td>\n",
       "      <td>en</td>\n",
       "      <td>American poetry -- 20th century</td>\n",
       "      <td>PS</td>\n",
       "      <td>Browsing: Literature; Browsing: Poetry</td>\n",
       "      <td>&lt;NA&gt;</td>\n",
       "      <td>Guest</td>\n",
       "      <td>Edgar A. (Edgar Albert)</td>\n",
       "      <td>1881</td>\n",
       "      <td>1959</td>\n",
       "    </tr>\n",
       "  </tbody>\n",
       "</table>\n",
       "</div>"
      ],
      "text/plain": [
       "       text_id  type      issued  \\\n",
       "66647    66726  Text  2021-11-13   \n",
       "46519    46593  Text  2014-08-16   \n",
       "13392    13463  Text  2004-09-15   \n",
       "43367    43441  Text  2013-08-10   \n",
       "21819    21890  Text  2007-06-21   \n",
       "\n",
       "                                                  title language  \\\n",
       "66647                                More Minor Horrors       en   \n",
       "46519  Gedankengut aus meinen Wanderjahren. Erster Band       de   \n",
       "13392  Notes and Queries, Number 48, September 28, 1850       en   \n",
       "43367                          Symbolistes et Décadents       fr   \n",
       "21819                                  The Path to Home       en   \n",
       "\n",
       "                                                subjects locc  \\\n",
       "66647  Insects as carriers of disease; Insect pests; ...   QL   \n",
       "46519  Authors, German -- Biography; Dauthendey, Max,...   PT   \n",
       "13392               Questions and answers -- Periodicals   AG   \n",
       "43367  French literature -- 19th century -- History a...   PQ   \n",
       "21819                    American poetry -- 20th century   PS   \n",
       "\n",
       "                                             bookshelves second_author  \\\n",
       "66647  Browsing: Nature/Gardening/Animals; Browsing: ...          <NA>   \n",
       "46519        Browsing: Biographies; Browsing: Literature          <NA>   \n",
       "13392  Notes and Queries; Browsing: Encyclopedias/Dic...          <NA>   \n",
       "43367  FR Littérature; Browsing: History - General; B...          <NA>   \n",
       "21819             Browsing: Literature; Browsing: Poetry          <NA>   \n",
       "\n",
       "        last_name               first_name  birth  death  \n",
       "66647     Shipley   A. E. (Arthur Everett)   1861   1927  \n",
       "46519  Dauthendey                      Max   1867   1918  \n",
       "13392     Various                     <NA>   <NA>   <NA>  \n",
       "43367        Kahn                  Gustave   1859   1936  \n",
       "21819       Guest  Edgar A. (Edgar Albert)   1881   1959  "
      ]
     },
     "execution_count": 129,
     "metadata": {},
     "output_type": "execute_result"
    }
   ],
   "source": [
    "#Import the results and show a sample\n",
    "import pandas as pd\n",
    "pg_catalog_clean = pd.read_pickle('pg_catalog_clean.pickle')\n",
    "pg_catalog_clean.sample(5)"
   ]
  },
  {
   "cell_type": "markdown",
   "id": "46d94131-74ab-4513-8fb7-d4513c2cea53",
   "metadata": {
    "editable": true,
    "slideshow": {
     "slide_type": ""
    },
    "tags": []
   },
   "source": [
    "### 4. Geoparsing Results"
   ]
  },
  {
   "cell_type": "markdown",
   "id": "01502f0c-da94-4f1d-8b05-c5debac06bbd",
   "metadata": {
    "editable": true,
    "slideshow": {
     "slide_type": ""
    },
    "tags": []
   },
   "source": [
    "As we looked at the geoparsing results, we discovered important observations about hierarchies and how rural versus non-rural locations affect meaning. The dataset includes several different literary works, mostly by Jane Austen, showing how she had a constant impact on literature. It shows us well-known titles like \"Sense and Sensibility\" and \"Mansfield Park,\" which is about themes of English social life and norm customs in the 19th century. These works can range from Austen's time to more recent collections, showing that people are still interested in her stories about love and society today. Overall, this data shows how important Austen's ideas are today and how her work is still appreciated and studied."
   ]
  },
  {
   "cell_type": "code",
   "execution_count": 133,
   "id": "3bd327c0-d149-4e85-beaa-b52215bb6da9",
   "metadata": {
    "editable": true,
    "slideshow": {
     "slide_type": ""
    },
    "tags": []
   },
   "outputs": [],
   "source": [
    "#Import the results and show a sample\n",
    "df_austen.to_pickle('df_austen_PLACES.pickle')"
   ]
  },
  {
   "cell_type": "code",
   "execution_count": 135,
   "id": "143c0823-85dc-44d7-ba3f-f6beceb1b0e1",
   "metadata": {
    "editable": true,
    "scrolled": true,
    "slideshow": {
     "slide_type": ""
    },
    "tags": []
   },
   "outputs": [
    {
     "data": {
      "text/html": [
       "<div>\n",
       "<style scoped>\n",
       "    .dataframe tbody tr th:only-of-type {\n",
       "        vertical-align: middle;\n",
       "    }\n",
       "\n",
       "    .dataframe tbody tr th {\n",
       "        vertical-align: top;\n",
       "    }\n",
       "\n",
       "    .dataframe thead th {\n",
       "        text-align: right;\n",
       "    }\n",
       "</style>\n",
       "<table border=\"1\" class=\"dataframe\">\n",
       "  <thead>\n",
       "    <tr style=\"text-align: right;\">\n",
       "      <th></th>\n",
       "      <th>text_id</th>\n",
       "      <th>type</th>\n",
       "      <th>issued</th>\n",
       "      <th>title</th>\n",
       "      <th>language</th>\n",
       "      <th>subjects</th>\n",
       "      <th>locc</th>\n",
       "      <th>bookshelves</th>\n",
       "      <th>second_author</th>\n",
       "      <th>last_name</th>\n",
       "      <th>first_name</th>\n",
       "      <th>birth</th>\n",
       "      <th>death</th>\n",
       "    </tr>\n",
       "  </thead>\n",
       "  <tbody>\n",
       "    <tr>\n",
       "      <th>104</th>\n",
       "      <td>105</td>\n",
       "      <td>Text</td>\n",
       "      <td>1994-02-01</td>\n",
       "      <td>Persuasion</td>\n",
       "      <td>en</td>\n",
       "      <td>England -- Social life and customs -- 19th cen...</td>\n",
       "      <td>PR</td>\n",
       "      <td>Browsing: Culture/Civilization/Society; Browsi...</td>\n",
       "      <td>&lt;NA&gt;</td>\n",
       "      <td>Austen</td>\n",
       "      <td>Jane</td>\n",
       "      <td>1775</td>\n",
       "      <td>1817</td>\n",
       "    </tr>\n",
       "    <tr>\n",
       "      <th>31027</th>\n",
       "      <td>31100</td>\n",
       "      <td>Text</td>\n",
       "      <td>2010-01-25</td>\n",
       "      <td>The Complete Project Gutenberg Works of Jane A...</td>\n",
       "      <td>en</td>\n",
       "      <td>Love stories, English; England -- Social life ...</td>\n",
       "      <td>PR</td>\n",
       "      <td>Browsing: Culture/Civilization/Society; Browsi...</td>\n",
       "      <td>Widger, David, 1932-2021? [Editor]</td>\n",
       "      <td>Austen</td>\n",
       "      <td>Jane</td>\n",
       "      <td>1775</td>\n",
       "      <td>1817</td>\n",
       "    </tr>\n",
       "    <tr>\n",
       "      <th>160</th>\n",
       "      <td>161</td>\n",
       "      <td>Text</td>\n",
       "      <td>1994-09-01</td>\n",
       "      <td>Sense and Sensibility</td>\n",
       "      <td>en</td>\n",
       "      <td>England -- Social life and customs -- 19th cen...</td>\n",
       "      <td>PR</td>\n",
       "      <td>Browsing: Culture/Civilization/Society; Browsi...</td>\n",
       "      <td>&lt;NA&gt;</td>\n",
       "      <td>Austen</td>\n",
       "      <td>Jane</td>\n",
       "      <td>1775</td>\n",
       "      <td>1817</td>\n",
       "    </tr>\n",
       "    <tr>\n",
       "      <th>63490</th>\n",
       "      <td>63569</td>\n",
       "      <td>Text</td>\n",
       "      <td>2020-10-28</td>\n",
       "      <td>The Watsons: By Jane Austen, Concluded by L. O...</td>\n",
       "      <td>en</td>\n",
       "      <td>England -- Social life and customs -- 19th cen...</td>\n",
       "      <td>PR</td>\n",
       "      <td>Browsing: Culture/Civilization/Society; Browsi...</td>\n",
       "      <td>Oulton, L.; Austen-Leigh, James Edward, 1798-1...</td>\n",
       "      <td>Austen</td>\n",
       "      <td>Jane</td>\n",
       "      <td>1775</td>\n",
       "      <td>1817</td>\n",
       "    </tr>\n",
       "    <tr>\n",
       "      <th>140</th>\n",
       "      <td>141</td>\n",
       "      <td>Text</td>\n",
       "      <td>1994-06-01</td>\n",
       "      <td>Mansfield Park</td>\n",
       "      <td>en</td>\n",
       "      <td>England -- Fiction; Young women -- Fiction; Lo...</td>\n",
       "      <td>PR</td>\n",
       "      <td>Browsing: Culture/Civilization/Society; Browsi...</td>\n",
       "      <td>&lt;NA&gt;</td>\n",
       "      <td>Austen</td>\n",
       "      <td>Jane</td>\n",
       "      <td>1775</td>\n",
       "      <td>1817</td>\n",
       "    </tr>\n",
       "  </tbody>\n",
       "</table>\n",
       "</div>"
      ],
      "text/plain": [
       "       text_id  type      issued  \\\n",
       "104        105  Text  1994-02-01   \n",
       "31027    31100  Text  2010-01-25   \n",
       "160        161  Text  1994-09-01   \n",
       "63490    63569  Text  2020-10-28   \n",
       "140        141  Text  1994-06-01   \n",
       "\n",
       "                                                   title language  \\\n",
       "104                                           Persuasion       en   \n",
       "31027  The Complete Project Gutenberg Works of Jane A...       en   \n",
       "160                                Sense and Sensibility       en   \n",
       "63490  The Watsons: By Jane Austen, Concluded by L. O...       en   \n",
       "140                                       Mansfield Park       en   \n",
       "\n",
       "                                                subjects locc  \\\n",
       "104    England -- Social life and customs -- 19th cen...   PR   \n",
       "31027  Love stories, English; England -- Social life ...   PR   \n",
       "160    England -- Social life and customs -- 19th cen...   PR   \n",
       "63490  England -- Social life and customs -- 19th cen...   PR   \n",
       "140    England -- Fiction; Young women -- Fiction; Lo...   PR   \n",
       "\n",
       "                                             bookshelves  \\\n",
       "104    Browsing: Culture/Civilization/Society; Browsi...   \n",
       "31027  Browsing: Culture/Civilization/Society; Browsi...   \n",
       "160    Browsing: Culture/Civilization/Society; Browsi...   \n",
       "63490  Browsing: Culture/Civilization/Society; Browsi...   \n",
       "140    Browsing: Culture/Civilization/Society; Browsi...   \n",
       "\n",
       "                                           second_author last_name first_name  \\\n",
       "104                                                 <NA>    Austen       Jane   \n",
       "31027                 Widger, David, 1932-2021? [Editor]    Austen       Jane   \n",
       "160                                                 <NA>    Austen       Jane   \n",
       "63490  Oulton, L.; Austen-Leigh, James Edward, 1798-1...    Austen       Jane   \n",
       "140                                                 <NA>    Austen       Jane   \n",
       "\n",
       "       birth  death  \n",
       "104     1775   1817  \n",
       "31027   1775   1817  \n",
       "160     1775   1817  \n",
       "63490   1775   1817  \n",
       "140     1775   1817  "
      ]
     },
     "execution_count": 135,
     "metadata": {},
     "output_type": "execute_result"
    }
   ],
   "source": [
    "df_austen.sample(5)"
   ]
  },
  {
   "cell_type": "markdown",
   "id": "29cfeb55-8b38-49a5-8a08-bd6f10bd0a87",
   "metadata": {
    "editable": true,
    "slideshow": {
     "slide_type": ""
    },
    "tags": []
   },
   "source": [
    "### 5. Sentiment Analysis Results\n"
   ]
  },
  {
   "cell_type": "markdown",
   "id": "ebdcf7ec-8ca7-41b2-a75f-8be85318f3c3",
   "metadata": {
    "editable": true,
    "slideshow": {
     "slide_type": ""
    },
    "tags": []
   },
   "source": [
    "The findings from the sentiment analysis highlighted key emotions expressed in the dataset, which includes several literary works mainly by Jane Austen, showing her big impact on English literature. Some well-known titles include\"The Watsons,\" \"Pride and Prejudice,\" and \"Sense and Sensibility,\" all of which look at social life and traditions in 19th-century England. These works show Austen's variety as a writer, including essays and letters. The work of different editors, like R. W. Chapman and Austin Dobson, shows that people are still interested in her stories. Overall, this data illustrates how relevant Austen’s ideas about society and relationships remain today, as her work continues to be celebrated and explored."
   ]
  },
  {
   "cell_type": "code",
   "execution_count": 139,
   "id": "6a8c78ee-36fb-4532-8e2f-6dd1e2e54a4c",
   "metadata": {
    "editable": true,
    "slideshow": {
     "slide_type": ""
    },
    "tags": []
   },
   "outputs": [
    {
     "data": {
      "text/html": [
       "<div>\n",
       "<style scoped>\n",
       "    .dataframe tbody tr th:only-of-type {\n",
       "        vertical-align: middle;\n",
       "    }\n",
       "\n",
       "    .dataframe tbody tr th {\n",
       "        vertical-align: top;\n",
       "    }\n",
       "\n",
       "    .dataframe thead th {\n",
       "        text-align: right;\n",
       "    }\n",
       "</style>\n",
       "<table border=\"1\" class=\"dataframe\">\n",
       "  <thead>\n",
       "    <tr style=\"text-align: right;\">\n",
       "      <th></th>\n",
       "      <th>text_id</th>\n",
       "      <th>type</th>\n",
       "      <th>issued</th>\n",
       "      <th>title</th>\n",
       "      <th>language</th>\n",
       "      <th>subjects</th>\n",
       "      <th>locc</th>\n",
       "      <th>bookshelves</th>\n",
       "      <th>second_author</th>\n",
       "      <th>last_name</th>\n",
       "      <th>first_name</th>\n",
       "      <th>birth</th>\n",
       "      <th>death</th>\n",
       "    </tr>\n",
       "  </thead>\n",
       "  <tbody>\n",
       "    <tr>\n",
       "      <th>1190</th>\n",
       "      <td>1212</td>\n",
       "      <td>Text</td>\n",
       "      <td>1998-02-01</td>\n",
       "      <td>Love and Freindship [sic]</td>\n",
       "      <td>en</td>\n",
       "      <td>Essays; Epistolary fiction; England -- Social ...</td>\n",
       "      <td>PR</td>\n",
       "      <td>Browsing: Culture/Civilization/Society; Browsi...</td>\n",
       "      <td>&lt;NA&gt;</td>\n",
       "      <td>Austen</td>\n",
       "      <td>Jane</td>\n",
       "      <td>1775</td>\n",
       "      <td>1817</td>\n",
       "    </tr>\n",
       "    <tr>\n",
       "      <th>104</th>\n",
       "      <td>105</td>\n",
       "      <td>Text</td>\n",
       "      <td>1994-02-01</td>\n",
       "      <td>Persuasion</td>\n",
       "      <td>en</td>\n",
       "      <td>England -- Social life and customs -- 19th cen...</td>\n",
       "      <td>PR</td>\n",
       "      <td>Browsing: Culture/Civilization/Society; Browsi...</td>\n",
       "      <td>&lt;NA&gt;</td>\n",
       "      <td>Austen</td>\n",
       "      <td>Jane</td>\n",
       "      <td>1775</td>\n",
       "      <td>1817</td>\n",
       "    </tr>\n",
       "    <tr>\n",
       "      <th>74067</th>\n",
       "      <td>74233</td>\n",
       "      <td>Text</td>\n",
       "      <td>2024-08-12</td>\n",
       "      <td>Fragment of a novel written by Jane Austen, Ja...</td>\n",
       "      <td>en</td>\n",
       "      <td>England -- Social life and customs -- 19th cen...</td>\n",
       "      <td>PR</td>\n",
       "      <td>&lt;NA&gt;</td>\n",
       "      <td>Chapman, R. W. (Robert William), 1881-1960 [Ed...</td>\n",
       "      <td>Austen</td>\n",
       "      <td>Jane</td>\n",
       "      <td>1775</td>\n",
       "      <td>1817</td>\n",
       "    </tr>\n",
       "    <tr>\n",
       "      <th>33440</th>\n",
       "      <td>33513</td>\n",
       "      <td>Text</td>\n",
       "      <td>2010-08-23</td>\n",
       "      <td>The Frightened Planet</td>\n",
       "      <td>en</td>\n",
       "      <td>Science fiction; Short stories</td>\n",
       "      <td>PS</td>\n",
       "      <td>Browsing: Literature; Browsing: Science-Fictio...</td>\n",
       "      <td>&lt;NA&gt;</td>\n",
       "      <td>Austen</td>\n",
       "      <td>Sidney</td>\n",
       "      <td>&lt;NA&gt;</td>\n",
       "      <td>&lt;NA&gt;</td>\n",
       "    </tr>\n",
       "    <tr>\n",
       "      <th>21768</th>\n",
       "      <td>21839</td>\n",
       "      <td>Text</td>\n",
       "      <td>2007-06-15</td>\n",
       "      <td>Sense and Sensibility</td>\n",
       "      <td>en</td>\n",
       "      <td>England -- Social life and customs -- 19th cen...</td>\n",
       "      <td>PR</td>\n",
       "      <td>Browsing: Culture/Civilization/Society; Browsi...</td>\n",
       "      <td>Dobson, Austin, 1840-1921 [Commentator]; Thoms...</td>\n",
       "      <td>Austen</td>\n",
       "      <td>Jane</td>\n",
       "      <td>1775</td>\n",
       "      <td>1817</td>\n",
       "    </tr>\n",
       "  </tbody>\n",
       "</table>\n",
       "</div>"
      ],
      "text/plain": [
       "       text_id  type      issued  \\\n",
       "1190      1212  Text  1998-02-01   \n",
       "104        105  Text  1994-02-01   \n",
       "74067    74233  Text  2024-08-12   \n",
       "33440    33513  Text  2010-08-23   \n",
       "21768    21839  Text  2007-06-15   \n",
       "\n",
       "                                                   title language  \\\n",
       "1190                           Love and Freindship [sic]       en   \n",
       "104                                           Persuasion       en   \n",
       "74067  Fragment of a novel written by Jane Austen, Ja...       en   \n",
       "33440                              The Frightened Planet       en   \n",
       "21768                              Sense and Sensibility       en   \n",
       "\n",
       "                                                subjects locc  \\\n",
       "1190   Essays; Epistolary fiction; England -- Social ...   PR   \n",
       "104    England -- Social life and customs -- 19th cen...   PR   \n",
       "74067  England -- Social life and customs -- 19th cen...   PR   \n",
       "33440                     Science fiction; Short stories   PS   \n",
       "21768  England -- Social life and customs -- 19th cen...   PR   \n",
       "\n",
       "                                             bookshelves  \\\n",
       "1190   Browsing: Culture/Civilization/Society; Browsi...   \n",
       "104    Browsing: Culture/Civilization/Society; Browsi...   \n",
       "74067                                               <NA>   \n",
       "33440  Browsing: Literature; Browsing: Science-Fictio...   \n",
       "21768  Browsing: Culture/Civilization/Society; Browsi...   \n",
       "\n",
       "                                           second_author last_name first_name  \\\n",
       "1190                                                <NA>    Austen       Jane   \n",
       "104                                                 <NA>    Austen       Jane   \n",
       "74067  Chapman, R. W. (Robert William), 1881-1960 [Ed...    Austen       Jane   \n",
       "33440                                               <NA>    Austen     Sidney   \n",
       "21768  Dobson, Austin, 1840-1921 [Commentator]; Thoms...    Austen       Jane   \n",
       "\n",
       "       birth  death  \n",
       "1190    1775   1817  \n",
       "104     1775   1817  \n",
       "74067   1775   1817  \n",
       "33440   <NA>   <NA>  \n",
       "21768   1775   1817  "
      ]
     },
     "execution_count": 139,
     "metadata": {},
     "output_type": "execute_result"
    }
   ],
   "source": [
    "#Import the results and show a sample\n",
    "df_austen.to_pickle('df_austen_SENTIMENTS.pickle')\n",
    "df_austen.sample(5)"
   ]
  },
  {
   "cell_type": "code",
   "execution_count": 141,
   "id": "826dd2f2-7c71-423a-b283-09ce9054690d",
   "metadata": {
    "editable": true,
    "slideshow": {
     "slide_type": ""
    },
    "tags": []
   },
   "outputs": [],
   "source": [
    "### 6. Mapping"
   ]
  },
  {
   "cell_type": "markdown",
   "id": "1f0265dd-16c9-4511-b4c2-3a6b5175ef48",
   "metadata": {
    "editable": true,
    "slideshow": {
     "slide_type": ""
    },
    "tags": []
   },
   "source": [
    "Through the mapping analysis, we were able to visualize key relationships. We would adjust the latitude and longitude parameters to focus the map on England, particularly enhancing the zoom level to better visualize the countryside regions. Changing color schemes would allow clearer differentiation of each book’s specific settings. This could include rural or non rural settings of each novel. This visualization would likely reveal a trend emphasizing women’s roles in marriage within the southern countryside of England. To connect the ideas of everything, the specific mapping helped support our hypothesis about Jane Austen's portrayal of a gendered, hierarchical society."
   ]
  },
  {
   "cell_type": "code",
   "execution_count": 157,
   "id": "2196b13f-9590-45ae-b6d3-f15c1db8fe88",
   "metadata": {
    "editable": true,
    "slideshow": {
     "slide_type": ""
    },
    "tags": []
   },
   "outputs": [
    {
     "ename": "ValueError",
     "evalue": "Value of 'size' is not the name of a column in 'data_frame'. Expected one of ['text_id', 'type', 'issued', 'title', 'language', 'subjects', 'locc', 'bookshelves', 'second_author', 'last_name', 'first_name', 'birth', 'death'] but received: location_count_bucket",
     "output_type": "error",
     "traceback": [
      "\u001b[0;31m---------------------------------------------------------------------------\u001b[0m",
      "\u001b[0;31mValueError\u001b[0m                                Traceback (most recent call last)",
      "Cell \u001b[0;32mIn[157], line 4\u001b[0m\n\u001b[1;32m      1\u001b[0m \u001b[38;5;66;03m#YOUR MAP CODE HERE\u001b[39;00m\n\u001b[1;32m      2\u001b[0m \u001b[38;5;28;01mimport\u001b[39;00m \u001b[38;5;21;01mplotly\u001b[39;00m\u001b[38;5;21;01m.\u001b[39;00m\u001b[38;5;21;01mexpress\u001b[39;00m \u001b[38;5;28;01mas\u001b[39;00m \u001b[38;5;21;01mpx\u001b[39;00m\n\u001b[0;32m----> 4\u001b[0m fig \u001b[38;5;241m=\u001b[39m px\u001b[38;5;241m.\u001b[39mscatter_mapbox(\n\u001b[1;32m      5\u001b[0m     df_austen,  \u001b[38;5;66;03m#put your dataframe here\u001b[39;00m\n\u001b[1;32m      6\u001b[0m     lat\u001b[38;5;241m=\u001b[39m\u001b[38;5;124m\"\u001b[39m\u001b[38;5;124mlatitude\u001b[39m\u001b[38;5;124m\"\u001b[39m,               \u001b[38;5;66;03m# Latitude column \u001b[39;00m\n\u001b[1;32m      7\u001b[0m     lon\u001b[38;5;241m=\u001b[39m\u001b[38;5;124m\"\u001b[39m\u001b[38;5;124mlongitude\u001b[39m\u001b[38;5;124m\"\u001b[39m,              \u001b[38;5;66;03m# Longitude column\u001b[39;00m\n\u001b[1;32m      8\u001b[0m     size\u001b[38;5;241m=\u001b[39m\u001b[38;5;124m\"\u001b[39m\u001b[38;5;124mlocation_count_bucket\u001b[39m\u001b[38;5;124m\"\u001b[39m,        \u001b[38;5;66;03m# Bubble size based on location count\u001b[39;00m\n\u001b[1;32m      9\u001b[0m     color\u001b[38;5;241m=\u001b[39m\u001b[38;5;124m\"\u001b[39m\u001b[38;5;124mavg_roberta_compound\u001b[39m\u001b[38;5;124m\"\u001b[39m,       \u001b[38;5;66;03m# Color based on sentiment score\u001b[39;00m\n\u001b[1;32m     10\u001b[0m     color_continuous_scale\u001b[38;5;241m=\u001b[39mpx\u001b[38;5;241m.\u001b[39mcolors\u001b[38;5;241m.\u001b[39mcyclical\u001b[38;5;241m.\u001b[39mTwilight[::\u001b[38;5;241m-\u001b[39m\u001b[38;5;241m1\u001b[39m],   \u001b[38;5;66;03m# Use Twilight scale (blue to red)\u001b[39;00m\n\u001b[1;32m     11\u001b[0m     size_max\u001b[38;5;241m=\u001b[39m\u001b[38;5;241m30\u001b[39m,                  \u001b[38;5;66;03m# Maximum size of the bubbles \u001b[39;00m\n\u001b[1;32m     12\u001b[0m     center\u001b[38;5;241m=\u001b[39m{\u001b[38;5;124m\"\u001b[39m\u001b[38;5;124mlat\u001b[39m\u001b[38;5;124m\"\u001b[39m: \u001b[38;5;241m5\u001b[39m,\u001b[38;5;124m\"\u001b[39m\u001b[38;5;124mlon\u001b[39m\u001b[38;5;124m\"\u001b[39m: \u001b[38;5;241m2\u001b[39m},\n\u001b[1;32m     13\u001b[0m     zoom\u001b[38;5;241m=\u001b[39m\u001b[38;5;241m5\u001b[39m                       \u001b[38;5;66;03m# Adjust zoom level for better visibility\u001b[39;00m\n\u001b[1;32m     14\u001b[0m )\n\u001b[1;32m     16\u001b[0m \u001b[38;5;66;03m# Update the layout to use the default map style (which doesn't need token)\u001b[39;00m\n\u001b[1;32m     17\u001b[0m fig\u001b[38;5;241m.\u001b[39mupdate_layout(\n\u001b[1;32m     18\u001b[0m     mapbox_style\u001b[38;5;241m=\u001b[39m\u001b[38;5;124m\"\u001b[39m\u001b[38;5;124mopen-street-map\u001b[39m\u001b[38;5;124m\"\u001b[39m,  \u001b[38;5;66;03m# No token needed for this style\u001b[39;00m\n\u001b[1;32m     19\u001b[0m     margin\u001b[38;5;241m=\u001b[39m{\u001b[38;5;124m\"\u001b[39m\u001b[38;5;124mr\u001b[39m\u001b[38;5;124m\"\u001b[39m:\u001b[38;5;241m0\u001b[39m, \u001b[38;5;124m\"\u001b[39m\u001b[38;5;124mt\u001b[39m\u001b[38;5;124m\"\u001b[39m:\u001b[38;5;241m0\u001b[39m, \u001b[38;5;124m\"\u001b[39m\u001b[38;5;124ml\u001b[39m\u001b[38;5;124m\"\u001b[39m:\u001b[38;5;241m0\u001b[39m, \u001b[38;5;124m\"\u001b[39m\u001b[38;5;124mb\u001b[39m\u001b[38;5;124m\"\u001b[39m:\u001b[38;5;241m0\u001b[39m} \u001b[38;5;66;03m# Remove margins for a cleaner view\u001b[39;00m\n\u001b[1;32m     20\u001b[0m )\n",
      "File \u001b[0;32m/opt/anaconda3/lib/python3.12/site-packages/plotly/express/_chart_types.py:1394\u001b[0m, in \u001b[0;36mscatter_mapbox\u001b[0;34m(data_frame, lat, lon, color, text, hover_name, hover_data, custom_data, size, animation_frame, animation_group, category_orders, labels, color_discrete_sequence, color_discrete_map, color_continuous_scale, range_color, color_continuous_midpoint, opacity, size_max, zoom, center, mapbox_style, title, template, width, height)\u001b[0m\n\u001b[1;32m   1361\u001b[0m \u001b[38;5;28;01mdef\u001b[39;00m \u001b[38;5;21mscatter_mapbox\u001b[39m(\n\u001b[1;32m   1362\u001b[0m     data_frame\u001b[38;5;241m=\u001b[39m\u001b[38;5;28;01mNone\u001b[39;00m,\n\u001b[1;32m   1363\u001b[0m     lat\u001b[38;5;241m=\u001b[39m\u001b[38;5;28;01mNone\u001b[39;00m,\n\u001b[0;32m   (...)\u001b[0m\n\u001b[1;32m   1388\u001b[0m     height\u001b[38;5;241m=\u001b[39m\u001b[38;5;28;01mNone\u001b[39;00m,\n\u001b[1;32m   1389\u001b[0m ) \u001b[38;5;241m-\u001b[39m\u001b[38;5;241m>\u001b[39m go\u001b[38;5;241m.\u001b[39mFigure:\n\u001b[1;32m   1390\u001b[0m \u001b[38;5;250m    \u001b[39m\u001b[38;5;124;03m\"\"\"\u001b[39;00m\n\u001b[1;32m   1391\u001b[0m \u001b[38;5;124;03m    In a Mapbox scatter plot, each row of `data_frame` is represented by a\u001b[39;00m\n\u001b[1;32m   1392\u001b[0m \u001b[38;5;124;03m    symbol mark on a Mapbox map.\u001b[39;00m\n\u001b[1;32m   1393\u001b[0m \u001b[38;5;124;03m    \"\"\"\u001b[39;00m\n\u001b[0;32m-> 1394\u001b[0m     \u001b[38;5;28;01mreturn\u001b[39;00m make_figure(args\u001b[38;5;241m=\u001b[39m\u001b[38;5;28mlocals\u001b[39m(), constructor\u001b[38;5;241m=\u001b[39mgo\u001b[38;5;241m.\u001b[39mScattermapbox)\n",
      "File \u001b[0;32m/opt/anaconda3/lib/python3.12/site-packages/plotly/express/_core.py:2117\u001b[0m, in \u001b[0;36mmake_figure\u001b[0;34m(args, constructor, trace_patch, layout_patch)\u001b[0m\n\u001b[1;32m   2114\u001b[0m layout_patch \u001b[38;5;241m=\u001b[39m layout_patch \u001b[38;5;129;01mor\u001b[39;00m {}\n\u001b[1;32m   2115\u001b[0m apply_default_cascade(args)\n\u001b[0;32m-> 2117\u001b[0m args \u001b[38;5;241m=\u001b[39m build_dataframe(args, constructor)\n\u001b[1;32m   2118\u001b[0m \u001b[38;5;28;01mif\u001b[39;00m constructor \u001b[38;5;129;01min\u001b[39;00m [go\u001b[38;5;241m.\u001b[39mTreemap, go\u001b[38;5;241m.\u001b[39mSunburst, go\u001b[38;5;241m.\u001b[39mIcicle] \u001b[38;5;129;01mand\u001b[39;00m args[\u001b[38;5;124m\"\u001b[39m\u001b[38;5;124mpath\u001b[39m\u001b[38;5;124m\"\u001b[39m] \u001b[38;5;129;01mis\u001b[39;00m \u001b[38;5;129;01mnot\u001b[39;00m \u001b[38;5;28;01mNone\u001b[39;00m:\n\u001b[1;32m   2119\u001b[0m     args \u001b[38;5;241m=\u001b[39m process_dataframe_hierarchy(args)\n",
      "File \u001b[0;32m/opt/anaconda3/lib/python3.12/site-packages/plotly/express/_core.py:1513\u001b[0m, in \u001b[0;36mbuild_dataframe\u001b[0;34m(args, constructor)\u001b[0m\n\u001b[1;32m   1510\u001b[0m     args[\u001b[38;5;124m\"\u001b[39m\u001b[38;5;124mcolor\u001b[39m\u001b[38;5;124m\"\u001b[39m] \u001b[38;5;241m=\u001b[39m \u001b[38;5;28;01mNone\u001b[39;00m\n\u001b[1;32m   1511\u001b[0m \u001b[38;5;66;03m# now that things have been prepped, we do the systematic rewriting of `args`\u001b[39;00m\n\u001b[0;32m-> 1513\u001b[0m df_output, wide_id_vars \u001b[38;5;241m=\u001b[39m process_args_into_dataframe(\n\u001b[1;32m   1514\u001b[0m     args, wide_mode, var_name, value_name\n\u001b[1;32m   1515\u001b[0m )\n\u001b[1;32m   1517\u001b[0m \u001b[38;5;66;03m# now that `df_output` exists and `args` contains only references, we complete\u001b[39;00m\n\u001b[1;32m   1518\u001b[0m \u001b[38;5;66;03m# the special-case and wide-mode handling by further rewriting args and/or mutating\u001b[39;00m\n\u001b[1;32m   1519\u001b[0m \u001b[38;5;66;03m# df_output\u001b[39;00m\n\u001b[1;32m   1521\u001b[0m count_name \u001b[38;5;241m=\u001b[39m _escape_col_name(df_output, \u001b[38;5;124m\"\u001b[39m\u001b[38;5;124mcount\u001b[39m\u001b[38;5;124m\"\u001b[39m, [var_name, value_name])\n",
      "File \u001b[0;32m/opt/anaconda3/lib/python3.12/site-packages/plotly/express/_core.py:1234\u001b[0m, in \u001b[0;36mprocess_args_into_dataframe\u001b[0;34m(args, wide_mode, var_name, value_name)\u001b[0m\n\u001b[1;32m   1232\u001b[0m         \u001b[38;5;28;01mif\u001b[39;00m argument \u001b[38;5;241m==\u001b[39m \u001b[38;5;124m\"\u001b[39m\u001b[38;5;124mindex\u001b[39m\u001b[38;5;124m\"\u001b[39m:\n\u001b[1;32m   1233\u001b[0m             err_msg \u001b[38;5;241m+\u001b[39m\u001b[38;5;241m=\u001b[39m \u001b[38;5;124m\"\u001b[39m\u001b[38;5;130;01m\\n\u001b[39;00m\u001b[38;5;124m To use the index, pass it in directly as `df.index`.\u001b[39m\u001b[38;5;124m\"\u001b[39m\n\u001b[0;32m-> 1234\u001b[0m         \u001b[38;5;28;01mraise\u001b[39;00m \u001b[38;5;167;01mValueError\u001b[39;00m(err_msg)\n\u001b[1;32m   1235\u001b[0m \u001b[38;5;28;01melif\u001b[39;00m length \u001b[38;5;129;01mand\u001b[39;00m \u001b[38;5;28mlen\u001b[39m(df_input[argument]) \u001b[38;5;241m!=\u001b[39m length:\n\u001b[1;32m   1236\u001b[0m     \u001b[38;5;28;01mraise\u001b[39;00m \u001b[38;5;167;01mValueError\u001b[39;00m(\n\u001b[1;32m   1237\u001b[0m         \u001b[38;5;124m\"\u001b[39m\u001b[38;5;124mAll arguments should have the same length. \u001b[39m\u001b[38;5;124m\"\u001b[39m\n\u001b[1;32m   1238\u001b[0m         \u001b[38;5;124m\"\u001b[39m\u001b[38;5;124mThe length of column argument `df[\u001b[39m\u001b[38;5;132;01m%s\u001b[39;00m\u001b[38;5;124m]` is \u001b[39m\u001b[38;5;132;01m%d\u001b[39;00m\u001b[38;5;124m, whereas the \u001b[39m\u001b[38;5;124m\"\u001b[39m\n\u001b[0;32m   (...)\u001b[0m\n\u001b[1;32m   1245\u001b[0m         )\n\u001b[1;32m   1246\u001b[0m     )\n",
      "\u001b[0;31mValueError\u001b[0m: Value of 'size' is not the name of a column in 'data_frame'. Expected one of ['text_id', 'type', 'issued', 'title', 'language', 'subjects', 'locc', 'bookshelves', 'second_author', 'last_name', 'first_name', 'birth', 'death'] but received: location_count_bucket"
     ]
    }
   ],
   "source": [
    "#YOUR MAP CODE HERE\n",
    "import plotly.express as px\n",
    "\n",
    "fig = px.scatter_mapbox(\n",
    "    df_austen,  #put your dataframe here\n",
    "    lat=\"latitude\",               # Latitude column \n",
    "    lon=\"longitude\",              # Longitude column\n",
    "    size=\"location_count_bucket\",        # Bubble size based on location count\n",
    "    color=\"avg_roberta_compound\",       # Color based on sentiment score\n",
    "    color_continuous_scale=px.colors.cyclical.Twilight[::-1],   # Use Twilight scale (blue to red)\n",
    "    size_max=30,                  # Maximum size of the bubbles \n",
    "    center={\"lat\": 5,\"lon\": 2},\n",
    "    zoom=5                       # Adjust zoom level for better visibility\n",
    ")\n",
    "\n",
    "# Update the layout to use the default map style (which doesn't need token)\n",
    "fig.update_layout(\n",
    "    mapbox_style=\"open-street-map\",  # No token needed for this style\n",
    "    margin={\"r\":0, \"t\":0, \"l\":0, \"b\":0} # Remove margins for a cleaner view\n",
    ")\n",
    "\n",
    "\n",
    "\n",
    "\n",
    "fig.show()"
   ]
  },
  {
   "cell_type": "markdown",
   "id": "c7abaef7-5992-42e9-973d-07090005a1a4",
   "metadata": {
    "editable": true,
    "slideshow": {
     "slide_type": ""
    },
    "tags": []
   },
   "source": [
    "### 7. Reflection (Individual)\n",
    "\n",
    "When we started looking at Jane Austen’s works, we expected to find clear patterns showing where her stories are set, especially in southern England, along with the emotions tied to those places. Unfortunately, we ran into problems with the code, which meant the map didn’t display correctly. This made it hard to visualize our data and see the connections we were hoping for. Even with these issues, we still learned a lot from the sentiment analysis that revealed important emotions in Austen's writing. We did run into some \"garbage data\" in our dataset, which included irrelevant locations that didn’t appear in her works and emotional tags that were unclear or inaccurate. Some entries mentioned current locations or broad emotions that didn’t fit the context of her novels. If we had more time, I would focus on fixing the code to ensure the map worked and cleaning up this garbage data to make our results clearer and more relevant."
   ]
  },
  {
   "cell_type": "code",
   "execution_count": null,
   "id": "c628dd4e-d429-4831-9bc4-a687196b1c31",
   "metadata": {},
   "outputs": [],
   "source": []
  }
 ],
 "metadata": {
  "kernelspec": {
   "display_name": "Python 3 (ipykernel)",
   "language": "python",
   "name": "python3"
  },
  "language_info": {
   "codemirror_mode": {
    "name": "ipython",
    "version": 3
   },
   "file_extension": ".py",
   "mimetype": "text/x-python",
   "name": "python",
   "nbconvert_exporter": "python",
   "pygments_lexer": "ipython3",
   "version": "3.12.2"
  }
 },
 "nbformat": 4,
 "nbformat_minor": 5
}
